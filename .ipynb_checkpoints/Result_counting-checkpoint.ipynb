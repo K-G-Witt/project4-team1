{
 "cells": [
  {
   "cell_type": "code",
   "execution_count": 1,
   "id": "37c3e5eb-5684-4daa-a1de-8169adb5bde9",
   "metadata": {},
   "outputs": [],
   "source": [
    "# dependencies\n",
    "import pandas as pd"
   ]
  },
  {
   "cell_type": "code",
   "execution_count": 3,
   "id": "56294b74-c0f0-41b9-90ad-75b78fd50ae9",
   "metadata": {},
   "outputs": [
    {
     "data": {
      "text/html": [
       "<div>\n",
       "<style scoped>\n",
       "    .dataframe tbody tr th:only-of-type {\n",
       "        vertical-align: middle;\n",
       "    }\n",
       "\n",
       "    .dataframe tbody tr th {\n",
       "        vertical-align: top;\n",
       "    }\n",
       "\n",
       "    .dataframe thead th {\n",
       "        text-align: right;\n",
       "    }\n",
       "</style>\n",
       "<table border=\"1\" class=\"dataframe\">\n",
       "  <thead>\n",
       "    <tr style=\"text-align: right;\">\n",
       "      <th></th>\n",
       "      <th>id</th>\n",
       "      <th>superpopulation</th>\n",
       "      <th>guessed superpopulation</th>\n",
       "    </tr>\n",
       "  </thead>\n",
       "  <tbody>\n",
       "    <tr>\n",
       "      <th>0</th>\n",
       "      <td>1762</td>\n",
       "      <td>AFR</td>\n",
       "      <td>AFR</td>\n",
       "    </tr>\n",
       "    <tr>\n",
       "      <th>1</th>\n",
       "      <td>2503</td>\n",
       "      <td>SAS</td>\n",
       "      <td>SAS</td>\n",
       "    </tr>\n",
       "    <tr>\n",
       "      <th>2</th>\n",
       "      <td>1525</td>\n",
       "      <td>SAS</td>\n",
       "      <td>SAS</td>\n",
       "    </tr>\n",
       "    <tr>\n",
       "      <th>3</th>\n",
       "      <td>1624</td>\n",
       "      <td>SAS</td>\n",
       "      <td>SAS</td>\n",
       "    </tr>\n",
       "    <tr>\n",
       "      <th>4</th>\n",
       "      <td>1684</td>\n",
       "      <td>EUR</td>\n",
       "      <td>EUR</td>\n",
       "    </tr>\n",
       "  </tbody>\n",
       "</table>\n",
       "</div>"
      ],
      "text/plain": [
       "     id superpopulation guessed superpopulation\n",
       "0  1762             AFR                     AFR\n",
       "1  2503             SAS                     SAS\n",
       "2  1525             SAS                     SAS\n",
       "3  1624             SAS                     SAS\n",
       "4  1684             EUR                     EUR"
      ]
     },
     "execution_count": 3,
     "metadata": {},
     "output_type": "execute_result"
    }
   ],
   "source": [
    "# read in project result csv\n",
    "nn_result_df = pd.read_csv(\"Results/Violet_suppop_results.csv\")\n",
    "nn_result_df.head()"
   ]
  },
  {
   "cell_type": "code",
   "execution_count": 4,
   "id": "f72d238f-4d71-4d2b-99ea-cfb97df55e10",
   "metadata": {},
   "outputs": [
    {
     "data": {
      "text/html": [
       "<div>\n",
       "<style scoped>\n",
       "    .dataframe tbody tr th:only-of-type {\n",
       "        vertical-align: middle;\n",
       "    }\n",
       "\n",
       "    .dataframe tbody tr th {\n",
       "        vertical-align: top;\n",
       "    }\n",
       "\n",
       "    .dataframe thead th {\n",
       "        text-align: right;\n",
       "    }\n",
       "</style>\n",
       "<table border=\"1\" class=\"dataframe\">\n",
       "  <thead>\n",
       "    <tr style=\"text-align: right;\">\n",
       "      <th></th>\n",
       "      <th>id</th>\n",
       "      <th>superpopulation</th>\n",
       "      <th>guessed superpopulation</th>\n",
       "      <th>Path ID</th>\n",
       "    </tr>\n",
       "  </thead>\n",
       "  <tbody>\n",
       "    <tr>\n",
       "      <th>0</th>\n",
       "      <td>1762</td>\n",
       "      <td>AFR</td>\n",
       "      <td>AFR</td>\n",
       "      <td>AFR-AFR</td>\n",
       "    </tr>\n",
       "    <tr>\n",
       "      <th>1</th>\n",
       "      <td>2503</td>\n",
       "      <td>SAS</td>\n",
       "      <td>SAS</td>\n",
       "      <td>SAS-SAS</td>\n",
       "    </tr>\n",
       "    <tr>\n",
       "      <th>2</th>\n",
       "      <td>1525</td>\n",
       "      <td>SAS</td>\n",
       "      <td>SAS</td>\n",
       "      <td>SAS-SAS</td>\n",
       "    </tr>\n",
       "    <tr>\n",
       "      <th>3</th>\n",
       "      <td>1624</td>\n",
       "      <td>SAS</td>\n",
       "      <td>SAS</td>\n",
       "      <td>SAS-SAS</td>\n",
       "    </tr>\n",
       "    <tr>\n",
       "      <th>4</th>\n",
       "      <td>1684</td>\n",
       "      <td>EUR</td>\n",
       "      <td>EUR</td>\n",
       "      <td>EUR-EUR</td>\n",
       "    </tr>\n",
       "  </tbody>\n",
       "</table>\n",
       "</div>"
      ],
      "text/plain": [
       "     id superpopulation guessed superpopulation  Path ID\n",
       "0  1762             AFR                     AFR  AFR-AFR\n",
       "1  2503             SAS                     SAS  SAS-SAS\n",
       "2  1525             SAS                     SAS  SAS-SAS\n",
       "3  1624             SAS                     SAS  SAS-SAS\n",
       "4  1684             EUR                     EUR  EUR-EUR"
      ]
     },
     "execution_count": 4,
     "metadata": {},
     "output_type": "execute_result"
    }
   ],
   "source": [
    "# create path id column\n",
    "nn_result_df[\"Path ID\"] = nn_result_df[\"superpopulation\"] + \"-\" + nn_result_df[\"guessed superpopulation\"]\n",
    "nn_result_df.head()"
   ]
  },
  {
   "cell_type": "code",
   "execution_count": 6,
   "id": "53a6c5eb-b45a-432a-aec4-ec836f4420f5",
   "metadata": {},
   "outputs": [
    {
     "data": {
      "text/plain": [
       "Path ID\n",
       "AFR-AFR    384\n",
       "AFR-AMR     29\n",
       "AFR-EAS     28\n",
       "AFR-EUR     30\n",
       "AFR-SAS     25\n",
       "AMR-AFR     14\n",
       "AMR-AMR    206\n",
       "AMR-EAS      9\n",
       "AMR-EUR      9\n",
       "AMR-SAS     22\n",
       "EAS-AFR     21\n",
       "EAS-AMR     27\n",
       "EAS-EAS    286\n",
       "EAS-EUR     24\n",
       "EAS-SAS     20\n",
       "EUR-AFR     24\n",
       "EUR-AMR     26\n",
       "EUR-EAS     25\n",
       "EUR-EUR    284\n",
       "EUR-SAS     18\n",
       "SAS-AFR     29\n",
       "SAS-AMR     25\n",
       "SAS-EAS     24\n",
       "SAS-EUR     20\n",
       "SAS-SAS    269\n",
       "Name: id, dtype: int64"
      ]
     },
     "execution_count": 6,
     "metadata": {},
     "output_type": "execute_result"
    }
   ],
   "source": [
    "# get counts by Path ID\n",
    "counts = nn_result_df.groupby(\"Path ID\").count()[\"id\"]\n",
    "counts"
   ]
  },
  {
   "cell_type": "code",
   "execution_count": 10,
   "id": "c70ac011-8855-4771-bc35-2ebd89b9da9a",
   "metadata": {},
   "outputs": [
    {
     "data": {
      "text/html": [
       "<div>\n",
       "<style scoped>\n",
       "    .dataframe tbody tr th:only-of-type {\n",
       "        vertical-align: middle;\n",
       "    }\n",
       "\n",
       "    .dataframe tbody tr th {\n",
       "        vertical-align: top;\n",
       "    }\n",
       "\n",
       "    .dataframe thead th {\n",
       "        text-align: right;\n",
       "    }\n",
       "</style>\n",
       "<table border=\"1\" class=\"dataframe\">\n",
       "  <thead>\n",
       "    <tr style=\"text-align: right;\">\n",
       "      <th></th>\n",
       "      <th>Count Guesses</th>\n",
       "    </tr>\n",
       "    <tr>\n",
       "      <th>Path ID</th>\n",
       "      <th></th>\n",
       "    </tr>\n",
       "  </thead>\n",
       "  <tbody>\n",
       "    <tr>\n",
       "      <th>AFR-AFR</th>\n",
       "      <td>384</td>\n",
       "    </tr>\n",
       "    <tr>\n",
       "      <th>AFR-AMR</th>\n",
       "      <td>29</td>\n",
       "    </tr>\n",
       "    <tr>\n",
       "      <th>AFR-EAS</th>\n",
       "      <td>28</td>\n",
       "    </tr>\n",
       "    <tr>\n",
       "      <th>AFR-EUR</th>\n",
       "      <td>30</td>\n",
       "    </tr>\n",
       "    <tr>\n",
       "      <th>AFR-SAS</th>\n",
       "      <td>25</td>\n",
       "    </tr>\n",
       "    <tr>\n",
       "      <th>AMR-AFR</th>\n",
       "      <td>14</td>\n",
       "    </tr>\n",
       "    <tr>\n",
       "      <th>AMR-AMR</th>\n",
       "      <td>206</td>\n",
       "    </tr>\n",
       "  </tbody>\n",
       "</table>\n",
       "</div>"
      ],
      "text/plain": [
       "         Count Guesses\n",
       "Path ID               \n",
       "AFR-AFR            384\n",
       "AFR-AMR             29\n",
       "AFR-EAS             28\n",
       "AFR-EUR             30\n",
       "AFR-SAS             25\n",
       "AMR-AFR             14\n",
       "AMR-AMR            206"
      ]
     },
     "execution_count": 10,
     "metadata": {},
     "output_type": "execute_result"
    }
   ],
   "source": [
    "# turn into df\n",
    "counts_df = pd.DataFrame(counts)\n",
    "counts_df = counts_df.rename(columns={\"id\": \"Count Guesses\"})\n",
    "counts_df.head(7)"
   ]
  },
  {
   "cell_type": "code",
   "execution_count": 11,
   "id": "e25b43d4-37c0-46c2-8ddb-b5ef20dc4df3",
   "metadata": {},
   "outputs": [],
   "source": [
    "# write to new file\n",
    "counts_df.to_csv(\"Results/Violet_suppop_summary.csv\")"
   ]
  },
  {
   "cell_type": "code",
   "execution_count": null,
   "id": "d38d2521-bce4-4b0d-bac7-ede049894d7a",
   "metadata": {},
   "outputs": [],
   "source": []
  }
 ],
 "metadata": {
  "kernelspec": {
   "display_name": "Python 3 (ipykernel)",
   "language": "python",
   "name": "python3"
  },
  "language_info": {
   "codemirror_mode": {
    "name": "ipython",
    "version": 3
   },
   "file_extension": ".py",
   "mimetype": "text/x-python",
   "name": "python",
   "nbconvert_exporter": "python",
   "pygments_lexer": "ipython3",
   "version": "3.11.7"
  }
 },
 "nbformat": 4,
 "nbformat_minor": 5
}
