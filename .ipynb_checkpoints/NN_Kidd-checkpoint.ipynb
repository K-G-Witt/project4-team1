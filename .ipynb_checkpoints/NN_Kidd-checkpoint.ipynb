{
 "cells": [
  {
   "cell_type": "code",
   "execution_count": null,
   "id": "34d4d438-393c-408b-9f78-247bdd5151de",
   "metadata": {},
   "outputs": [],
   "source": [
    "# Import our dependencies\n",
    "from sklearn.model_selection import train_test_split\n",
    "from sklearn.preprocessing import StandardScaler,OneHotEncoder\n",
    "import pandas as pd\n",
    "import tensorflow as tf\n",
    "\n",
    "# Import our input dataset\n",
    "import pandas as pd\n",
    "kidd_df = pd.read_csv(\"Resources/kidd_combined.csv\")\n",
    "kidd_df.tail(5)"
   ]
  },
  {
   "cell_type": "code",
   "execution_count": null,
   "id": "9b39c241-7693-4041-8cb9-a269758451b9",
   "metadata": {},
   "outputs": [],
   "source": [
    "# Drop categorical data not required\n",
    "kidd_df = kidd_df.drop(columns=['id', 'gender'])\n",
    "kidd_df.tail()"
   ]
  },
  {
   "cell_type": "code",
   "execution_count": null,
   "id": "ef6f1eed-a3cc-479c-87d6-5c709e0f1db1",
   "metadata": {},
   "outputs": [],
   "source": [
    "# Fill NaN with 6\n",
    "kidd_df.superpopulation = kidd_df.superpopulation.fillna(5)\n",
    "kidd_df.head()"
   ]
  },
  {
   "cell_type": "code",
   "execution_count": null,
   "id": "1176eebc-28d2-455a-8793-eafdb2e58ac9",
   "metadata": {},
   "outputs": [],
   "source": [
    "# Replace superpopulation alpha label with numeric value\n",
    "# Reference: https://www.geeksforgeeks.org/how-to-replace-values-in-column-based-on-condition-in-pandas/\n",
    "\n",
    "kidd_df.loc[ kidd_df[\"superpopulation\"] == \"AFR\", \"superpopulation\"] = 0\n",
    "kidd_df.loc[ kidd_df[\"superpopulation\"] == \"AMR\", \"superpopulation\"] = 1\n",
    "kidd_df.loc[ kidd_df[\"superpopulation\"] == \"EAS\", \"superpopulation\"] = 2\n",
    "kidd_df.loc[ kidd_df[\"superpopulation\"] == \"EUR\", \"superpopulation\"] = 3\n",
    "kidd_df.loc[ kidd_df[\"superpopulation\"] == \"SAS\", \"superpopulation\"] = 4\n",
    "kidd_df.tail(50)"
   ]
  },
  {
   "cell_type": "code",
   "execution_count": null,
   "id": "ec6edab0-a714-4dbc-be8e-b288190f5e36",
   "metadata": {},
   "outputs": [],
   "source": [
    "# Set superpopulation to data type 'integer'\n",
    "# Reference: https://saturncloud.io/blog/how-to-replace-strings-with-numbers-in-python-pandas-dataframe/\n",
    "kidd_df['superpopulation'] = kidd_df['superpopulation'].astype('int')"
   ]
  },
  {
   "cell_type": "code",
   "execution_count": null,
   "id": "ae81c4b3-2c64-4c2c-9912-bd60723ef226",
   "metadata": {},
   "outputs": [],
   "source": [
    "# Generate our categorical variable lists\n",
    "categorical_var_list = kidd_df.dtypes[kidd_df.dtypes == \"object\"].index.tolist()\n",
    "categorical_var_list"
   ]
  },
  {
   "cell_type": "code",
   "execution_count": null,
   "id": "df382cf4-faf2-4573-af97-e9c4b51a5bd6",
   "metadata": {},
   "outputs": [],
   "source": [
    "# Check the number of unique values in each column\n",
    "kidd_df[categorical_var_list].nunique()"
   ]
  },
  {
   "cell_type": "code",
   "execution_count": null,
   "id": "e56bfd02-bfc0-409d-9bd2-25f8565087e2",
   "metadata": {},
   "outputs": [],
   "source": [
    "# Reference: https://stackoverflow.com/questions/63189787/typeerror-init-got-an-unexpected-keyword-argument-sparse   for issue with 'sparse'\n",
    "# Reference: https://scikit-learn.org/stable/modules/generated/sklearn.preprocessing.OneHotEncoder.html\n",
    "\n",
    "# Create a OneHotEncoder instance\n",
    "enc = OneHotEncoder (sparse_output=False)\n",
    "\n",
    "# Fit and transform the OneHotEncoder using the categorical variable list\n",
    "snp_encode_df = pd.DataFrame(enc.fit_transform(kidd_df[categorical_var_list]))\n",
    "\n",
    "# Reference:https://stackoverflow.com/questions/58756515/onehotencoder-object-has-no-attribute-get-feature-names\n",
    "# Add the encoded variable names to the dataframe\n",
    "snp_encode_df.columns = enc.get_feature_names_out(categorical_var_list)\n",
    "snp_encode_df.head()"
   ]
  },
  {
   "cell_type": "code",
   "execution_count": null,
   "id": "81507052-62c6-49fd-8b83-c1bf656ff09a",
   "metadata": {},
   "outputs": [],
   "source": [
    "# Merge one-hot encoded features and drop the originals\n",
    "encoded_kidd_df = kidd_df.merge(snp_encode_df,left_index=True, right_index=True)\n",
    "encoded_kidd_df  = encoded_kidd_df.drop(categorical_var_list, axis=1)\n",
    "encoded_kidd_df.head()"
   ]
  },
  {
   "cell_type": "code",
   "execution_count": null,
   "id": "a8daae61-a962-4ac9-ac33-04dc76352a8c",
   "metadata": {},
   "outputs": [],
   "source": [
    "# Split our preprocessed data into our features and target arrays\n",
    "\n",
    "y = encoded_kidd_df[\"superpopulation\"].values\n",
    "X = encoded_kidd_df.drop(columns=['superpopulation'])\n",
    "\n",
    "\n",
    "# Split the preprocessed data into a training and testing dataset\n",
    "X_train, X_test, y_train, y_test = train_test_split(X, y, random_state=78)"
   ]
  },
  {
   "cell_type": "code",
   "execution_count": null,
   "id": "1e5a5034-3440-4d84-816b-c26987d64156",
   "metadata": {},
   "outputs": [],
   "source": [
    "# Create a StandardScaler instances\n",
    "scaler = StandardScaler()\n",
    "\n",
    "# Fit the StandardScaler\n",
    "X_scaler = scaler.fit(X_train)\n",
    "\n",
    "# Scale the data\n",
    "X_train_scaled = X_scaler.transform(X_train)\n",
    "X_test_scaled = X_scaler.transform(X_test)"
   ]
  },
  {
   "cell_type": "code",
   "execution_count": null,
   "id": "a0f818c9-27b0-446a-8627-6408a9d4c519",
   "metadata": {},
   "outputs": [],
   "source": [
    "# Define the model - deep neural net\n",
    "number_input_features = 275\n",
    "hidden_nodes_layer1 =  8\n",
    "hidden_nodes_layer2 = 5\n",
    "\n",
    "nn = tf.keras.models.Sequential()\n",
    "\n",
    "# First hidden layer\n",
    "nn.add(\n",
    "    tf.keras.layers.Dense(units=hidden_nodes_layer1, input_dim=number_input_features, activation=\"relu\")\n",
    ")\n",
    "# Second hidden layer\n",
    "nn.add(tf.keras.layers.Dense(units=hidden_nodes_layer2, activation=\"relu\"))\n",
    "\n",
    "# Output layer\n",
    "nn.add(tf.keras.layers.Dense(units=6, activation=\"softmax\"))\n",
    "\n",
    "# Check the structure of the model\n",
    "nn.summary()"
   ]
  },
  {
   "cell_type": "code",
   "execution_count": null,
   "id": "f77f6720-690a-41f5-b8b6-3dae84243a0b",
   "metadata": {},
   "outputs": [],
   "source": [
    "# Reference: https://stackoverflow.com/questions/63527580/tensorflow-with-keras-sparse-categorical-crossentropy\n",
    "# Compile the model\n",
    "nn.compile(loss=\"sparse_categorical_crossentropy\", optimizer=\"adam\", metrics=[\"accuracy\"])"
   ]
  },
  {
   "cell_type": "code",
   "execution_count": null,
   "id": "20bf7ab6-f7fd-4000-8ffe-979cf54ec723",
   "metadata": {},
   "outputs": [],
   "source": [
    "# Train the model\n",
    "fit_model = nn.fit(X_train_scaled,y_train,epochs=100)"
   ]
  },
  {
   "cell_type": "code",
   "execution_count": null,
   "id": "de67cd19-c53c-4136-92e5-239a1da64de9",
   "metadata": {},
   "outputs": [],
   "source": [
    "# Evaluate the model using the test data\n",
    "model_loss, model_accuracy = nn.evaluate(X_test_scaled,y_test,verbose=2)\n",
    "print(f\"Loss: {model_loss}, Accuracy: {model_accuracy}\")"
   ]
  }
 ],
 "metadata": {
  "kernelspec": {
   "display_name": "Python 3 (ipykernel)",
   "language": "python",
   "name": "python3"
  },
  "language_info": {
   "codemirror_mode": {
    "name": "ipython",
    "version": 3
   },
   "file_extension": ".py",
   "mimetype": "text/x-python",
   "name": "python",
   "nbconvert_exporter": "python",
   "pygments_lexer": "ipython3",
   "version": "3.10.13"
  }
 },
 "nbformat": 4,
 "nbformat_minor": 5
}
