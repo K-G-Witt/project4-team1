# dependencies
import pandas as pd


# read in project result csv
nn_result_df = pd.read_csv("Exhibits/NN_Seldin_Predictions.csv")
nn_result_df.head()


# drop nan's
nn_result_df = nn_result_df.dropna(how='any')
nn_result_df.head()


# create path id column
nn_result_df["Path ID"] = nn_result_df["superpopulation"] + "-" + nn_result_df["guessed superpopulation"]
nn_result_df.head()


# get counts by Path ID
counts = nn_result_df.groupby("Path ID").count()["superpopulation"]
counts


# turn into df
counts_df = pd.DataFrame(counts)
counts_df = counts_df.rename(columns={"id": "Count Guesses"})
counts_df.head(7)


# write to new file
counts_df.to_csv("Exhibits/Superpopulation_Summary.csv")



